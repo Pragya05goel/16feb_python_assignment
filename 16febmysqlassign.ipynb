{
 "cells": [
  {
   "cell_type": "markdown",
   "id": "ea7ff41e-6e9f-4cb8-9a9d-c7e71f808aa9",
   "metadata": {},
   "source": [
    "## ASSIGNMENT"
   ]
  },
  {
   "cell_type": "markdown",
   "id": "e5f7d301-b2ba-4dc8-9a49-83a30382d4ad",
   "metadata": {},
   "source": [
    "Q1. What is a database? Differentiate between SQL and NoSQL databases."
   ]
  },
  {
   "cell_type": "markdown",
   "id": "ccb2c9b8-c26a-42da-9559-97f41e2973a8",
   "metadata": {},
   "source": [
    "Database :\n",
    "\n",
    "A database is a collection of data that is organized, which is also called structured data. It can be accessed or stored in a computer system. It can be managed through a Database Management System (DBMS), a software used to manage data. Database refers to related data in a structured form. \n",
    "\n",
    "In a database, data is organized into tables consisting of rows and columns and it is indexed so data can be updated, expanded, and deleted easily. Computer databases typically contain file records data like transactions money in one bank account to another bank account, sales and customer details, fee details of students, and product details. There are different kinds of databases, ranging from the most prevalent approach, the relational database, to a distributed database, cloud database, and NoSQL databases.\n",
    "\n",
    "\n",
    "#####              SQL         \n",
    "\n",
    ". RELATIONAL DATABASE MANAGEMENT SYSTEM (RDBMS)  \n",
    "\n",
    ". These databases have fixed or static or predefined schema\n",
    "\n",
    ". These databases are not suited for hierarchical data storage.\t       \n",
    "\n",
    ". These databases are best suited for complex queries\t                  \n",
    "\n",
    ". Vertically Scalable\t                                                 \n",
    "\n",
    ". Follows ACID property\t                                              \n",
    "\n",
    ". Examples: MySQL, PostgreSQL, Oracle, MS-SQL Server, etc\t               \n",
    "\n",
    "\n",
    "\n",
    "#####              NOSQL\n",
    "\n",
    ". Non-relational or distributed database system.\n",
    "\n",
    ". They have dynamic schema\n",
    "\n",
    ". These databases are best suited for hierarchical data storage.\n",
    "\n",
    ". These databases are not so good for complex queries                                                                      \n",
    ". Horizontally scalable\n",
    "\n",
    ". Follows CAP(consistency, availability, partition  tolerance)                                                            \n",
    ". Examples: MongoDB, GraphQL, HBase, Neo4j,etc.                                                                                 "
   ]
  },
  {
   "cell_type": "markdown",
   "id": "7c8804d7-8486-41e0-b299-3c1e2137deb9",
   "metadata": {},
   "source": [
    "Q2. What is DDL? Explain why CREATE, DROP, ALTER, and TRUNCATE are used with an example."
   ]
  },
  {
   "cell_type": "markdown",
   "id": "69cc99a2-8614-41f7-a135-3926a1c84bfb",
   "metadata": {},
   "source": [
    "A data definition language (DDL) is a computer language used to create and modify the structure of database objects in a database. These database objects include views, schemas, tables, indexes, etc.\n",
    "\n",
    "It is a subset of SQL and a part of DBMS(Database Management System). DDL consist of Commands to commands like CREATE, ALTER, TRUNCATE and DROP. These commands are used to create or modify the tables in SQL.\n",
    "\n",
    "DDL Commands :\n",
    "\n",
    ". Create\n",
    "\n",
    ". Alter\n",
    "\n",
    ". truncate\n",
    "\n",
    ". drop\n",
    "\n",
    "CREATE :\n",
    "\n",
    "This command is used to create a new table in SQL. The user has to give information like table name, column names, and their datatypes.\n",
    "\n",
    "Ex-\n",
    "\n",
    "CREATE TABLE Student_info\n",
    "(\n",
    "College_Id number(2),\n",
    "College_name varchar(30),\n",
    "Branch varchar(10)\n",
    ");\n",
    "\n",
    "ALTER :\n",
    "\n",
    "This command is used to add, delete or change columns in the existing table. The user needs to know the existing table name and can do add, delete or modify tasks easily.\n",
    "\n",
    "Ex-\n",
    "\n",
    "ALTER TABLE Student_info\n",
    "ADD CGPA number;\n",
    "\n",
    "TRUNCATE :\n",
    "\n",
    "This command is used to remove all rows from the table, but the structure of the table still exists.\n",
    "\n",
    "Ex-\n",
    "\n",
    "TRUNCATE TABLE Student_info;\n",
    "\n",
    "DROP :\n",
    "\n",
    "This command is used to remove an existing table along with its structure from the Database.\n",
    "\n",
    "Ex-\n",
    "\n",
    "DROP TABLE Student_info;"
   ]
  },
  {
   "cell_type": "markdown",
   "id": "05a813e5-e1d0-489f-80e2-a3961282222f",
   "metadata": {},
   "source": [
    "Q3. What is DML? Explain INSERT, UPDATE, and DELETE with an example."
   ]
  },
  {
   "cell_type": "markdown",
   "id": "93cc3596-846b-4f28-baa4-8d88ceb4ff8e",
   "metadata": {},
   "source": [
    "DML stands for Data Manipulation Language. DML is a way to inform a database precisely what we want it to do by conversing in a manner that it has been built to comprehend from the scratch. When it comes to interacting within existing data, whether adding, moving, or deleting data, it provides a convenient way to do so.\n",
    "\n",
    "DML commands are:\n",
    "\n",
    ". INSERT\n",
    "\n",
    ". UPDATE\n",
    "\n",
    ". DELETE\n",
    "\n",
    "\n",
    "INSERT Command –\n",
    "\n",
    "This command is used to enter the information or values into a row. We can connect one or more records to a single table within a repository using this instruction. This is often used to connect an unused tag to the documents.\n",
    "\n",
    "Ex-\n",
    "\n",
    "INSERT INTO students ('stu_id' int, 'stu_name' varchar(20), 'city' varchar(20))\n",
    "\n",
    "VALUES ('1', 'Nirmit', 'Gorakhpur'); \n",
    "\n",
    "UPDATE Command –\n",
    "\n",
    "This command is used to alter existing table records. Within a table, it modifies data from one or more records. This command is used to alter the data which is already present in a table.\n",
    "\n",
    "Ex-\n",
    "\n",
    "UPDATE students\n",
    "\n",
    "SET due_fees = 20000\n",
    "\n",
    "WHERE stu_name = 'Mini';\n",
    "\n",
    "DELETE Command –\n",
    "\n",
    "It deletes all archives from a table. This command is used to erase some or all of the previous table’s records. If we do not specify the ‘WHERE’ condition then all the rows would be erased or deleted.\n",
    "\n",
    "Ex-\n",
    "\n",
    "DELETE FROM students\n",
    "\n",
    "WHERE stu_id = '001'; \n"
   ]
  },
  {
   "cell_type": "markdown",
   "id": "75179b59-3ee0-4d11-86a8-17879e3a1ef0",
   "metadata": {},
   "source": [
    "Q4. What is DQL? Explain SELECT with an example."
   ]
  },
  {
   "cell_type": "markdown",
   "id": "664ea258-db05-424e-9e17-339661554bd4",
   "metadata": {},
   "source": [
    "DQL statements are used for performing queries on the data within schema objects. The purpose of the DQL Command is to get some schema relation based on the query passed to it. We can define DQL as follows it is a component of SQL statement that allows getting data from the database and imposing order upon it. It includes the SELECT statement. This command allows getting the data out of the database to perform operations with it. When a SELECT is fired against a table or tables the result is compiled into a further temporary table, which is displayed or perhaps received by the program i.e. a front-end. \n",
    "\n",
    "SELECT: It is used to retrieve data from the database.\n",
    "\n",
    "Select is the most commonly used statement in SQL. The SELECT Statement in SQL is used to retrieve or fetch data from a database. We can fetch either the entire table or according to some specified rules. The data returned is stored in a result table. This result table is also called the result set. With the SELECT clause of a SELECT command statement, we specify the columns that we want to be displayed in the query result and, optionally, which column headings we prefer to see above the result table. The select clause is the first clause and is one of the last clauses of the select statement that the database server evaluates. The reason for this is that before we can determine what to include in the final result set, we need to know all of the possible columns that could be included in the final result set. \n",
    "\n",
    "Ex-\n",
    "SELECT * FROM table_name; \n",
    "This above command retrives all the data from table\n",
    "\n",
    "SELECT ROLL_NO, NAME, AGE FROM Student;\n",
    "This command retrives ROLL_NO, NAME and AGE from student table."
   ]
  },
  {
   "cell_type": "markdown",
   "id": "804a97d4-2a04-4744-a9e8-4fd42bc00ef8",
   "metadata": {},
   "source": [
    "Q5. Explain Primary Key and Foreign Key."
   ]
  },
  {
   "cell_type": "markdown",
   "id": "d68fbc7e-c79b-4c66-b355-07575d564cc6",
   "metadata": {},
   "source": [
    "Primary Key:\n",
    "\n",
    ". A primary key is used to ensure that data in the specific column is unique. A column cannot have NULL values. It is either an existing table column or a column that is specifically generated by the database according to a defined sequence. \n",
    "\n",
    ". Only one primary key is allowed in a table. \n",
    "\n",
    ". It uniquely identifies a record in the relational database table.\n",
    "\n",
    ". It uniquely identifies a record in the relational database table.\n",
    "\n",
    ". It does not allow NULL values.\n",
    "\n",
    ". It does not allow NULL values.\n",
    "\n",
    ". It constraint can be implicitly defined on the temporary tables.\n",
    "\n",
    "Foreign Key:\n",
    "\n",
    ". A foreign key is a column or group of columns in a relational database table that provides a link between data in two        tables. It is a column (or columns) that references a column (most often the primary key) of another table. \n",
    "\n",
    ". more than one foreign key are allowed in a table.\n",
    " \n",
    ". It refers to the field in a table which is the primary key of another table.\n",
    "\n",
    ". It can contain duplicate values and a table in a relational database.\n",
    "\n",
    ". It can also contain NULL values.\n",
    "\n",
    ". Its value can be deleted from the child table.\n",
    "\n",
    ". It constraint cannot be defined on the local or global temporary tables."
   ]
  },
  {
   "cell_type": "markdown",
   "id": "896e1503-c032-42b7-bd23-1762572ef45e",
   "metadata": {},
   "source": [
    "Q6. Write a python code to connect MySQL to python. Explain the cursor() and execute() method."
   ]
  },
  {
   "cell_type": "markdown",
   "id": "0134aa34-4449-4a9b-a3f7-c94af7bd2435",
   "metadata": {},
   "source": [
    "import mysql.connector\n",
    "\n",
    "mydb = mysql.connector.connect(\n",
    "  host=\"localhost\",\n",
    "  user=\"abc\",\n",
    "  password=\"password\"\n",
    ")\n",
    "print(mydb)\n",
    "mycursor = mydb.cursor()\n",
    "mycursor.execute(\"CREATE TABLE if not exists test.test_table(c1 INT,c2 VARCHAR(50),c3 INT,c4 FLOAT,c5 VARCHAR(30))\")\n",
    "mydb.close()\n",
    "\n",
    "cursor():\n",
    "\n",
    "The cursor object is used to make the connection for executing SQL queries.It is an object which helps to execute the query and fetch the records from the database.It is a control structure used to traverse and fetch the records of the database. \n",
    "All the commands will be executed using cursor object only.\n",
    "\n",
    "execute():\n",
    "\n",
    "The execute () method helps us to execute the query and return records according to the query."
   ]
  },
  {
   "cell_type": "markdown",
   "id": "75c9a98a-6336-4e46-8e63-19967bb9ef14",
   "metadata": {},
   "source": [
    "Q7. Give the order of execution of SQL clauses in an SQL query."
   ]
  },
  {
   "cell_type": "markdown",
   "id": "0e5b7377-9243-4729-82b8-83df936435e0",
   "metadata": {},
   "source": [
    "Order of execution is:\n",
    "\n",
    "1.from\n",
    "\n",
    "2.where\n",
    "\n",
    "3.group by\n",
    "\n",
    "4.having \n",
    "\n",
    "5.select\n",
    "\n",
    "6.order by\n",
    "\n",
    "7.limit"
   ]
  },
  {
   "cell_type": "markdown",
   "id": "2c82b2f6-473a-43b1-bd9d-9b2d53ac0196",
   "metadata": {},
   "source": [
    "-------------"
   ]
  }
 ],
 "metadata": {
  "kernelspec": {
   "display_name": "Python 3 (ipykernel)",
   "language": "python",
   "name": "python3"
  },
  "language_info": {
   "codemirror_mode": {
    "name": "ipython",
    "version": 3
   },
   "file_extension": ".py",
   "mimetype": "text/x-python",
   "name": "python",
   "nbconvert_exporter": "python",
   "pygments_lexer": "ipython3",
   "version": "3.10.8"
  }
 },
 "nbformat": 4,
 "nbformat_minor": 5
}
